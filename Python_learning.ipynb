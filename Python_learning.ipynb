{
 "cells": [
  {
   "cell_type": "markdown",
   "id": "164e3008",
   "metadata": {},
   "source": [
    "# PYTHON"
   ]
  },
  {
   "cell_type": "code",
   "execution_count": 1,
   "id": "8fd32953",
   "metadata": {},
   "outputs": [
    {
     "name": "stdout",
     "output_type": "stream",
     "text": [
      "the roll no is 10 and name is bharath\n",
      "the roll no is 10 and name is bharath\n",
      "its bharath\n",
      "i love10 and bharath\n"
     ]
    }
   ],
   "source": [
    "##STRING FORMATERS\n",
    "\n",
    "a=10;\n",
    "a1='bharath'\n",
    "\n",
    "print(\"the roll no is {a} and name is {a1}\".format(a=10,a1='bharath'))\n",
    "print(\"the roll no is {0} and name is {1}\".format(a,a1))\n",
    "print(f\"its {a1}\")\n",
    "print(\"i love%s and %s\"%(a,a1))\n"
   ]
  },
  {
   "cell_type": "code",
   "execution_count": 2,
   "id": "e498c759",
   "metadata": {},
   "outputs": [],
   "source": [
    "##DOCUMENTAION STRING\n",
    "\n",
    "##First statement in a module,class,function and method explain what it does\n",
    "\n",
    "def add(a,b):\n",
    "    \"\"\"\n",
    "    return (a+b)\n",
    "    \"\"\"\n",
    "add(56,98)\n"
   ]
  },
  {
   "cell_type": "code",
   "execution_count": 3,
   "id": "74cae54f",
   "metadata": {},
   "outputs": [
    {
     "data": {
      "text/plain": [
       "'\\n    return (a+b)\\n    '"
      ]
     },
     "execution_count": 3,
     "metadata": {},
     "output_type": "execute_result"
    }
   ],
   "source": [
    "##TO ACCESS A DOCSTRING\n",
    "add.__doc__"
   ]
  },
  {
   "cell_type": "code",
   "execution_count": 4,
   "id": "87aaf7b3",
   "metadata": {},
   "outputs": [],
   "source": [
    "##VARIABLES DEFINED WTHIN FUNCTION CANNOT BE RETRIEVED AS DEFINED VARIABLE\n",
    "a =10\n",
    "def func():\n",
    "    b=23\n",
    "    print(a)\n",
    "    print(b)"
   ]
  },
  {
   "cell_type": "code",
   "execution_count": 5,
   "id": "ccba32a7",
   "metadata": {},
   "outputs": [
    {
     "name": "stdout",
     "output_type": "stream",
     "text": [
      "10\n",
      "23\n"
     ]
    }
   ],
   "source": [
    "func()"
   ]
  },
  {
   "cell_type": "code",
   "execution_count": 6,
   "id": "9caf0e43",
   "metadata": {},
   "outputs": [],
   "source": [
    "def func(b=0):\n",
    "    b=23\n",
    "    print(b)"
   ]
  },
  {
   "cell_type": "code",
   "execution_count": 7,
   "id": "c484ade9",
   "metadata": {},
   "outputs": [],
   "source": [
    "def red():\n",
    "    a=1\n",
    "    def blue():\n",
    "            b=2\n",
    "            print(a)\n",
    "            print(b)\n",
    "    blue()        \n",
    "    print(a)"
   ]
  },
  {
   "cell_type": "code",
   "execution_count": 8,
   "id": "d3c64867",
   "metadata": {},
   "outputs": [
    {
     "name": "stdout",
     "output_type": "stream",
     "text": [
      "1\n",
      "2\n",
      "1\n"
     ]
    }
   ],
   "source": [
    "red()"
   ]
  },
  {
   "cell_type": "code",
   "execution_count": 9,
   "id": "764978dc",
   "metadata": {},
   "outputs": [],
   "source": [
    "##WITHOUT DEFINED A AS A GLOBAL VARIABLE WIHIN FUNCTION\n",
    "a=1\n",
    "def counter():\n",
    "    a=2\n",
    "    return(a)"
   ]
  },
  {
   "cell_type": "code",
   "execution_count": 10,
   "id": "bb1568d9",
   "metadata": {},
   "outputs": [
    {
     "data": {
      "text/plain": [
       "2"
      ]
     },
     "execution_count": 10,
     "metadata": {},
     "output_type": "execute_result"
    }
   ],
   "source": [
    "counter()"
   ]
  },
  {
   "cell_type": "code",
   "execution_count": 11,
   "id": "74b05be6",
   "metadata": {},
   "outputs": [
    {
     "data": {
      "text/plain": [
       "1"
      ]
     },
     "execution_count": 11,
     "metadata": {},
     "output_type": "execute_result"
    }
   ],
   "source": [
    "a"
   ]
  },
  {
   "cell_type": "code",
   "execution_count": 12,
   "id": "0f60f74b",
   "metadata": {},
   "outputs": [],
   "source": [
    "#DEFINING A AS A GLOBAL VARIABLE\n",
    "a=1\n",
    "def counter():\n",
    "    global a\n",
    "    a=8\n",
    "    return(a)"
   ]
  },
  {
   "cell_type": "code",
   "execution_count": 13,
   "id": "5da7c1bd",
   "metadata": {},
   "outputs": [
    {
     "data": {
      "text/plain": [
       "8"
      ]
     },
     "execution_count": 13,
     "metadata": {},
     "output_type": "execute_result"
    }
   ],
   "source": [
    "counter()"
   ]
  },
  {
   "cell_type": "code",
   "execution_count": 14,
   "id": "5f8f87f3",
   "metadata": {},
   "outputs": [
    {
     "data": {
      "text/plain": [
       "8"
      ]
     },
     "execution_count": 14,
     "metadata": {},
     "output_type": "execute_result"
    }
   ],
   "source": [
    "a"
   ]
  },
  {
   "cell_type": "code",
   "execution_count": 15,
   "id": "23354e19",
   "metadata": {},
   "outputs": [],
   "source": [
    "def red():\n",
    "    a=1\n",
    "    def blue():\n",
    "            b=2\n",
    "            print(a)\n",
    "            print(b)\n",
    "    blue()        \n",
    "    print(a)"
   ]
  },
  {
   "cell_type": "code",
   "execution_count": 16,
   "id": "268765b9",
   "metadata": {},
   "outputs": [
    {
     "name": "stdout",
     "output_type": "stream",
     "text": [
      "1\n",
      "2\n",
      "1\n"
     ]
    }
   ],
   "source": [
    "red()"
   ]
  },
  {
   "cell_type": "code",
   "execution_count": 17,
   "id": "f7a86a15",
   "metadata": {},
   "outputs": [],
   "source": [
    "##VARIBALE USED AS NON LOCAL\n",
    "def red():\n",
    "    a=1\n",
    "    def blue():\n",
    "            nonlocal a\n",
    "            a =2      \n",
    "            b=2\n",
    "            print(a)\n",
    "            print(b)\n",
    "    blue()        \n",
    "    print(a)"
   ]
  },
  {
   "cell_type": "code",
   "execution_count": 18,
   "id": "1f6212e2",
   "metadata": {},
   "outputs": [
    {
     "name": "stdout",
     "output_type": "stream",
     "text": [
      "2\n",
      "2\n",
      "2\n"
     ]
    }
   ],
   "source": [
    "red()"
   ]
  },
  {
   "cell_type": "code",
   "execution_count": 19,
   "id": "4db1d32c",
   "metadata": {},
   "outputs": [
    {
     "name": "stdout",
     "output_type": "stream",
     "text": [
      "6\n",
      "4\n",
      "6\n",
      "2\n",
      "-68\n",
      "12\n",
      "0\n"
     ]
    }
   ],
   "source": [
    "##MEMBERSHIP OPERATORS(check if it is available)\n",
    "\"\"\"in \n",
    "not in\"\"\"\n",
    "##IDENTITY OPERATORS(check whether they are same)\n",
    "\"\"\"is \n",
    "is not\"\"\"\n",
    "##BITWISE OPERATOR(operating on values byte by byte)\n",
    "\"\"\"BINARY AND(&)\n",
    "BINARY OR(|)\n",
    "BINARY XOR(^)\n",
    "BINARY ONE COMPLEMENT(~)\n",
    "BINARY LEFT SHIF(<<)\n",
    "BINARY RIGHT SHIFT(>>)\"\"\"\n",
    "\n",
    "print(4 and 6)\n",
    "print(4&6)\n",
    "print(6|4)\n",
    "print(6^4)\n",
    "print(~67)\n",
    "print(3<<2)\n",
    "print(3>>2)"
   ]
  },
  {
   "cell_type": "code",
   "execution_count": 20,
   "id": "4b28d2bb",
   "metadata": {},
   "outputs": [],
   "source": [
    "##TO REMOVE VOWWLS IN A STRING\n",
    "\n",
    "def vowels(string):\n",
    "    s=''\n",
    "    for letters in string:\n",
    "        if letters not in ['a','e','i','o','u']:\n",
    "            s=s+letters\n",
    "            print(s)\n",
    "       "
   ]
  },
  {
   "cell_type": "code",
   "execution_count": 21,
   "id": "f73fb50e",
   "metadata": {},
   "outputs": [
    {
     "name": "stdout",
     "output_type": "stream",
     "text": [
      "b\n",
      "bh\n",
      "bhr\n",
      "bhrt\n",
      "bhrth\n",
      "bhrth \n",
      "bhrth s\n",
      "bhrth s \n",
      "bhrth s  \n",
      "bhrth s  c\n",
      "bhrth s  cr\n",
      "bhrth s  crc\n",
      "bhrth s  crck\n",
      "bhrth s  crckt\n",
      "bhrth s  crcktr\n"
     ]
    }
   ],
   "source": [
    "vowels('bharath is a cricketor')"
   ]
  },
  {
   "cell_type": "code",
   "execution_count": 22,
   "id": "0233d6f1",
   "metadata": {},
   "outputs": [],
   "source": [
    "##VOLUME OF A SPHERE\n",
    "import math\n",
    "def sphere(radius):\n",
    "    return round(4/3*math.pi*radius**3,2)"
   ]
  },
  {
   "cell_type": "code",
   "execution_count": 23,
   "id": "4c0be945",
   "metadata": {},
   "outputs": [
    {
     "data": {
      "text/plain": [
       "268.08"
      ]
     },
     "execution_count": 23,
     "metadata": {},
     "output_type": "execute_result"
    }
   ],
   "source": [
    "sphere(4)"
   ]
  },
  {
   "cell_type": "code",
   "execution_count": 2,
   "id": "90320f04",
   "metadata": {},
   "outputs": [],
   "source": [
    "##VALAUT PASSWORD SETUP\n",
    "\n",
    "def pasword(password):\n",
    "    if len(password)<6 or len(password)>12:return False\n",
    "    if not(any(i.isdigit() for i in password)):return False\n",
    "    if not (any(i in '@#&' for i in password)):return False\n",
    "    return True"
   ]
  },
  {
   "cell_type": "code",
   "execution_count": 3,
   "id": "b1ca5c58",
   "metadata": {},
   "outputs": [
    {
     "data": {
      "text/plain": [
       "True"
      ]
     },
     "execution_count": 3,
     "metadata": {},
     "output_type": "execute_result"
    }
   ],
   "source": [
    "pasword('bharath4#')\n"
   ]
  },
  {
   "cell_type": "code",
   "execution_count": 26,
   "id": "f388d305",
   "metadata": {},
   "outputs": [
    {
     "data": {
      "text/plain": [
       "False"
      ]
     },
     "execution_count": 26,
     "metadata": {},
     "output_type": "execute_result"
    }
   ],
   "source": [
    "pasword('bharath#')"
   ]
  },
  {
   "cell_type": "code",
   "execution_count": 27,
   "id": "21bc4b99",
   "metadata": {},
   "outputs": [
    {
     "data": {
      "text/plain": [
       "True"
      ]
     },
     "execution_count": 27,
     "metadata": {},
     "output_type": "execute_result"
    }
   ],
   "source": [
    "pasword('bharath@123')"
   ]
  },
  {
   "cell_type": "code",
   "execution_count": 28,
   "id": "3252fbf1",
   "metadata": {},
   "outputs": [],
   "source": [
    "##GREATEST NO IN THE LIST\n",
    "ls =[3,78,56,34,2,89,56,53,874,345,213,45]\n",
    "def great(ls):\n",
    "    n=0\n",
    "    for i in ls:\n",
    "        if i>n:\n",
    "            n=i\n",
    "    return n\n",
    "        \n",
    "            "
   ]
  },
  {
   "cell_type": "code",
   "execution_count": 29,
   "id": "04c8c70f",
   "metadata": {},
   "outputs": [
    {
     "data": {
      "text/plain": [
       "874"
      ]
     },
     "execution_count": 29,
     "metadata": {},
     "output_type": "execute_result"
    }
   ],
   "source": [
    "great(ls)"
   ]
  },
  {
   "cell_type": "code",
   "execution_count": 30,
   "id": "2bf03453",
   "metadata": {},
   "outputs": [
    {
     "name": "stdout",
     "output_type": "stream",
     "text": [
      "three\n",
      "100\n",
      "74\n"
     ]
    }
   ],
   "source": [
    "##TERNARY OPERATORS-they reduce code size and easy readability\n",
    "two=2\n",
    "three=3\n",
    "print(\"two\" if two>three else'three')\n",
    "\n",
    "##modern sum\n",
    "def modern_sum(a,b):\n",
    "    return 100 if(a+b>9 and a+b<18) else (a+b)\n",
    "print(modern_sum(7,6))\n",
    "print(modern_sum(18,56))"
   ]
  },
  {
   "cell_type": "code",
   "execution_count": 31,
   "id": "b4e1d73b",
   "metadata": {},
   "outputs": [],
   "source": [
    "def fun():\n",
    "    for i in range(1,100):\n",
    "        if i%3==0:\n",
    "            print(\"fizz\",i)\n",
    "            if i%5==0:\n",
    "                print('buzz',i)\n",
    "                if i%(3 and 5)==0:\n",
    "                    print('fizbuzz',i)"
   ]
  },
  {
   "cell_type": "code",
   "execution_count": 32,
   "id": "b15a2a93",
   "metadata": {},
   "outputs": [
    {
     "name": "stdout",
     "output_type": "stream",
     "text": [
      "fizz 3\n",
      "fizz 6\n",
      "fizz 9\n",
      "fizz 12\n",
      "fizz 15\n",
      "buzz 15\n",
      "fizbuzz 15\n",
      "fizz 18\n",
      "fizz 21\n",
      "fizz 24\n",
      "fizz 27\n",
      "fizz 30\n",
      "buzz 30\n",
      "fizbuzz 30\n",
      "fizz 33\n",
      "fizz 36\n",
      "fizz 39\n",
      "fizz 42\n",
      "fizz 45\n",
      "buzz 45\n",
      "fizbuzz 45\n",
      "fizz 48\n",
      "fizz 51\n",
      "fizz 54\n",
      "fizz 57\n",
      "fizz 60\n",
      "buzz 60\n",
      "fizbuzz 60\n",
      "fizz 63\n",
      "fizz 66\n",
      "fizz 69\n",
      "fizz 72\n",
      "fizz 75\n",
      "buzz 75\n",
      "fizbuzz 75\n",
      "fizz 78\n",
      "fizz 81\n",
      "fizz 84\n",
      "fizz 87\n",
      "fizz 90\n",
      "buzz 90\n",
      "fizbuzz 90\n",
      "fizz 93\n",
      "fizz 96\n",
      "fizz 99\n"
     ]
    }
   ],
   "source": [
    "fun()"
   ]
  },
  {
   "cell_type": "code",
   "execution_count": 33,
   "id": "9f4d5535",
   "metadata": {},
   "outputs": [
    {
     "name": "stdout",
     "output_type": "stream",
     "text": [
      "1\n",
      "2\n",
      "3\n",
      "4\n",
      "5\n",
      "6\n",
      "7\n",
      "8\n",
      "9\n",
      "10\n",
      "loop terminates\n"
     ]
    }
   ],
   "source": [
    "i=0\n",
    "while i<10:\n",
    "    i=i+1\n",
    "    print(i)\n",
    "else:\n",
    "    print('loop terminates')"
   ]
  },
  {
   "cell_type": "code",
   "execution_count": 34,
   "id": "98ed4306",
   "metadata": {},
   "outputs": [
    {
     "name": "stdout",
     "output_type": "stream",
     "text": [
      "1\n",
      "4\n",
      "9\n",
      "16\n",
      "25\n",
      "36\n",
      "49\n",
      "64\n",
      "81\n"
     ]
    }
   ],
   "source": [
    "for i in range(1,10):\n",
    "    i=i*i\n",
    "    print(i)\n",
    "    \n",
    "    \n",
    "    "
   ]
  },
  {
   "cell_type": "code",
   "execution_count": 35,
   "id": "ae8820fa",
   "metadata": {},
   "outputs": [
    {
     "name": "stdout",
     "output_type": "stream",
     "text": [
      "*0\n",
      "**1\n",
      "***2\n",
      "****3\n",
      "*****4\n"
     ]
    }
   ],
   "source": [
    "for row in range(5):\n",
    "    for star in range(row+1):\n",
    "        print('*',end='')\n",
    "    print(star)"
   ]
  },
  {
   "cell_type": "code",
   "execution_count": 36,
   "id": "92206c55",
   "metadata": {},
   "outputs": [
    {
     "name": "stdout",
     "output_type": "stream",
     "text": [
      "0\n",
      "1\n",
      "2\n",
      "3\n",
      "4\n",
      "5\n",
      "7\n",
      "8\n",
      "9\n"
     ]
    }
   ],
   "source": [
    "##CONTINUE STATEMENT\n",
    "for i in range(10):\n",
    "    if i ==6:\n",
    "        continue\n",
    "    print(i)    "
   ]
  },
  {
   "cell_type": "code",
   "execution_count": 37,
   "id": "c5c426f8",
   "metadata": {},
   "outputs": [
    {
     "name": "stdout",
     "output_type": "stream",
     "text": [
      "0\n",
      "1\n",
      "2\n",
      "3\n",
      "4\n",
      "5\n"
     ]
    }
   ],
   "source": [
    "##BREAK STATEMENT\n",
    "for i in range(10):\n",
    "    if i ==6:\n",
    "        break\n",
    "    print(i)    "
   ]
  },
  {
   "cell_type": "code",
   "execution_count": 38,
   "id": "6db17441",
   "metadata": {},
   "outputs": [
    {
     "data": {
      "text/plain": [
       "'0b1001'"
      ]
     },
     "execution_count": 38,
     "metadata": {},
     "output_type": "execute_result"
    }
   ],
   "source": [
    "bin(9)"
   ]
  },
  {
   "cell_type": "markdown",
   "id": "730cb48a",
   "metadata": {},
   "source": [
    "# STRINGS"
   ]
  },
  {
   "cell_type": "code",
   "execution_count": 39,
   "id": "991952d4",
   "metadata": {},
   "outputs": [
    {
     "name": "stdout",
     "output_type": "stream",
     "text": [
      "bharath is a professional cricketor\n",
      "r\n",
      "etor\n"
     ]
    }
   ],
   "source": [
    "a ='bharath is a professional cricketor'\n",
    "print(a)\n",
    "print(a[3])\n",
    "print(a[-4:])"
   ]
  },
  {
   "cell_type": "code",
   "execution_count": 40,
   "id": "96d58e8c",
   "metadata": {},
   "outputs": [],
   "source": [
    "##REVERSE A STRING\n",
    "def reverse(a):\n",
    "    return(a[::-1])"
   ]
  },
  {
   "cell_type": "code",
   "execution_count": 41,
   "id": "1ba0addb",
   "metadata": {},
   "outputs": [
    {
     "data": {
      "text/plain": [
       "'rotekcirc lanoisseforp a si htarahb'"
      ]
     },
     "execution_count": 41,
     "metadata": {},
     "output_type": "execute_result"
    }
   ],
   "source": [
    "reverse(a)"
   ]
  },
  {
   "cell_type": "code",
   "execution_count": 42,
   "id": "85646930",
   "metadata": {},
   "outputs": [],
   "source": [
    "##TO CHECK FOR PALINDRONE\n",
    "n ='232'\n",
    "def is_palindrone(n):\n",
    "    return str(n)==str(n[::-1])"
   ]
  },
  {
   "cell_type": "code",
   "execution_count": 43,
   "id": "4f4e9223",
   "metadata": {},
   "outputs": [
    {
     "data": {
      "text/plain": [
       "True"
      ]
     },
     "execution_count": 43,
     "metadata": {},
     "output_type": "execute_result"
    }
   ],
   "source": [
    "is_palindrone(n)"
   ]
  },
  {
   "cell_type": "code",
   "execution_count": 44,
   "id": "225240af",
   "metadata": {},
   "outputs": [
    {
     "name": "stdout",
     "output_type": "stream",
     "text": [
      "one#two#three\n"
     ]
    }
   ],
   "source": [
    "## TO JOIN THE STRINGS WITH REQUIRED CHARACTER\n",
    "n=['one','two','three']\n",
    "n1= '#' .join(n)\n",
    "print(n1)"
   ]
  },
  {
   "cell_type": "code",
   "execution_count": 45,
   "id": "cc715c39",
   "metadata": {},
   "outputs": [
    {
     "name": "stdout",
     "output_type": "stream",
     "text": [
      "bananana\n"
     ]
    }
   ],
   "source": [
    "##TO ADD WORDS IN STRINGS\n",
    "b='bana'\n",
    "b='bana'+'na'*2\n",
    "print(b)"
   ]
  },
  {
   "cell_type": "code",
   "execution_count": 46,
   "id": "7d273187",
   "metadata": {},
   "outputs": [],
   "source": [
    "##TO CHECK WHETHER THE GIVEN WORD IS ISOGRAM\n",
    "\n",
    "def isogram(words):\n",
    "    for word in words:\n",
    "        if words.count(word)>1and word.isalpha():\n",
    "            return False\n",
    "        return True"
   ]
  },
  {
   "cell_type": "code",
   "execution_count": 47,
   "id": "1c566160",
   "metadata": {},
   "outputs": [
    {
     "name": "stdout",
     "output_type": "stream",
     "text": [
      "False\n",
      "True\n"
     ]
    }
   ],
   "source": [
    "print(isogram('rajaraja'))\n",
    "print(isogram('bharathraj'))"
   ]
  },
  {
   "cell_type": "markdown",
   "id": "3bf9551f",
   "metadata": {},
   "source": [
    "# LIST"
   ]
  },
  {
   "cell_type": "code",
   "execution_count": 48,
   "id": "4b0682ac",
   "metadata": {},
   "outputs": [
    {
     "data": {
      "text/plain": [
       "[1, 4, 6, 8, 98, 45, 87]"
      ]
     },
     "execution_count": 48,
     "metadata": {},
     "output_type": "execute_result"
    }
   ],
   "source": [
    "ls=[1,4,6,8,98,45,87]\n",
    "ls"
   ]
  },
  {
   "cell_type": "code",
   "execution_count": 49,
   "id": "838a5379",
   "metadata": {},
   "outputs": [
    {
     "name": "stdout",
     "output_type": "stream",
     "text": [
      "98\n",
      "[8, 98, 45, 87]\n",
      "[6, 8, 98]\n",
      "87\n",
      "[87]\n",
      "[1, 4, 6, 8, 98, 45]\n",
      "[6, 8, 98]\n"
     ]
    }
   ],
   "source": [
    "##INDEXING\n",
    "print(ls[4])\n",
    "print(ls[3:])\n",
    "print(ls[2:5])\n",
    "print(ls[-1])\n",
    "print(ls[-1:])\n",
    "print(ls[:-1])\n",
    "print(ls[-5:-2])"
   ]
  },
  {
   "cell_type": "code",
   "execution_count": 50,
   "id": "f65bf307",
   "metadata": {},
   "outputs": [
    {
     "name": "stdout",
     "output_type": "stream",
     "text": [
      "249\n",
      "98\n",
      "1\n"
     ]
    }
   ],
   "source": [
    "##BUILT IN FUNCTIONS\n",
    "print(sum(ls))\n",
    "print(max(ls))\n",
    "print(min(ls))"
   ]
  },
  {
   "cell_type": "code",
   "execution_count": 51,
   "id": "2fdc8a88",
   "metadata": {},
   "outputs": [
    {
     "name": "stdout",
     "output_type": "stream",
     "text": [
      "[1, 4, 6, 8, 98, 45, 87, 567]\n"
     ]
    }
   ],
   "source": [
    "##ADD ELEMENTS IN A LIST\n",
    "ls.append(567)\n",
    "print(ls)\n"
   ]
  },
  {
   "cell_type": "code",
   "execution_count": 52,
   "id": "e5d26cee",
   "metadata": {},
   "outputs": [
    {
     "data": {
      "text/plain": [
       "[1, 4, 6, 8, 98, 45, 87]"
      ]
     },
     "execution_count": 52,
     "metadata": {},
     "output_type": "execute_result"
    }
   ],
   "source": [
    "##REMOVE ELEMENT IN A STRING\n",
    "ls.remove(567)\n",
    "ls"
   ]
  },
  {
   "cell_type": "code",
   "execution_count": 53,
   "id": "0b5276f1",
   "metadata": {},
   "outputs": [
    {
     "data": {
      "text/plain": [
       "[1, 4, 32, 6, 8, 98, 45, 87]"
      ]
     },
     "execution_count": 53,
     "metadata": {},
     "output_type": "execute_result"
    }
   ],
   "source": [
    "##INSERT AT A SPECIFIED INDEX\n",
    "ls.insert(2,32)\n",
    "ls"
   ]
  },
  {
   "cell_type": "code",
   "execution_count": 54,
   "id": "a486c930",
   "metadata": {},
   "outputs": [
    {
     "data": {
      "text/plain": [
       "32"
      ]
     },
     "execution_count": 54,
     "metadata": {},
     "output_type": "execute_result"
    }
   ],
   "source": [
    "##USED TO REMOVE PARTICULAR INDEX \n",
    "ls.pop(2)"
   ]
  },
  {
   "cell_type": "code",
   "execution_count": 55,
   "id": "ab8db42a",
   "metadata": {},
   "outputs": [
    {
     "data": {
      "text/plain": [
       "[1, 4, 6, 8, 98, 45, 87]"
      ]
     },
     "execution_count": 55,
     "metadata": {},
     "output_type": "execute_result"
    }
   ],
   "source": [
    "ls"
   ]
  },
  {
   "cell_type": "code",
   "execution_count": 56,
   "id": "af56c2fa",
   "metadata": {},
   "outputs": [
    {
     "name": "stdout",
     "output_type": "stream",
     "text": [
      "['eswar', 'raj', 'vetrivel', 'pandi']\n"
     ]
    }
   ],
   "source": [
    "a =['bharath','raj','vetrivel','pandi']\n",
    "a[0]='eswar'\n",
    "print(a)"
   ]
  },
  {
   "cell_type": "code",
   "execution_count": 57,
   "id": "5491a2a5",
   "metadata": {},
   "outputs": [
    {
     "name": "stdout",
     "output_type": "stream",
     "text": [
      "['eswar', 'vetrivel', 'pandi']\n"
     ]
    }
   ],
   "source": [
    "del a[1]\n",
    "print(a)"
   ]
  },
  {
   "cell_type": "code",
   "execution_count": 58,
   "id": "cb1bbc9e",
   "metadata": {},
   "outputs": [
    {
     "name": "stdout",
     "output_type": "stream",
     "text": [
      "[]\n"
     ]
    }
   ],
   "source": [
    "##EMPTIES THE LIST\n",
    "a.clear()\n",
    "print(a)"
   ]
  },
  {
   "cell_type": "code",
   "execution_count": 59,
   "id": "782e92af",
   "metadata": {},
   "outputs": [
    {
     "data": {
      "text/plain": [
       "0"
      ]
     },
     "execution_count": 59,
     "metadata": {},
     "output_type": "execute_result"
    }
   ],
   "source": [
    "##RETURN THE NO OF PARTICULER ELEMENTS IN LIST\n",
    "ls.count(567)\n"
   ]
  },
  {
   "cell_type": "code",
   "execution_count": 60,
   "id": "bddc1d40",
   "metadata": {},
   "outputs": [
    {
     "data": {
      "text/plain": [
       "6"
      ]
     },
     "execution_count": 60,
     "metadata": {},
     "output_type": "execute_result"
    }
   ],
   "source": [
    "##USED TO GET THE INDEX VALUE OF A PARTICULAR ELEMENT\n",
    "ls.index(87)"
   ]
  },
  {
   "cell_type": "code",
   "execution_count": 61,
   "id": "ecbb6921",
   "metadata": {},
   "outputs": [
    {
     "data": {
      "text/plain": [
       "[1, 4, 6, 8, 45, 87, 98]"
      ]
     },
     "execution_count": 61,
     "metadata": {},
     "output_type": "execute_result"
    }
   ],
   "source": [
    "##SORT THE ORDER\n",
    "ls.sort()\n",
    "ls"
   ]
  },
  {
   "cell_type": "code",
   "execution_count": 62,
   "id": "b3574e73",
   "metadata": {},
   "outputs": [
    {
     "data": {
      "text/plain": [
       "[98, 87, 45, 8, 6, 4, 1]"
      ]
     },
     "execution_count": 62,
     "metadata": {},
     "output_type": "execute_result"
    }
   ],
   "source": [
    "##REVERSE THE ORDER\n",
    "ls.reverse()\n",
    "ls"
   ]
  },
  {
   "cell_type": "code",
   "execution_count": 63,
   "id": "3cd44710",
   "metadata": {},
   "outputs": [
    {
     "data": {
      "text/plain": [
       "['bharath', 'raj']"
      ]
     },
     "execution_count": 63,
     "metadata": {},
     "output_type": "execute_result"
    }
   ],
   "source": [
    "a=['bharath','raj']\n",
    "a"
   ]
  },
  {
   "cell_type": "code",
   "execution_count": 64,
   "id": "0ea74c0b",
   "metadata": {},
   "outputs": [],
   "source": [
    "def reverse(w):\n",
    "    return'' .join(str(w))"
   ]
  },
  {
   "cell_type": "code",
   "execution_count": 65,
   "id": "2b3c3430",
   "metadata": {},
   "outputs": [
    {
     "data": {
      "text/plain": [
       "'bharath raj'"
      ]
     },
     "execution_count": 65,
     "metadata": {},
     "output_type": "execute_result"
    }
   ],
   "source": [
    "reverse('bharath raj')"
   ]
  },
  {
   "cell_type": "code",
   "execution_count": 66,
   "id": "e347690f",
   "metadata": {},
   "outputs": [
    {
     "name": "stdout",
     "output_type": "stream",
     "text": [
      "['banana', 'apple', 'mango', 'arange']\n"
     ]
    }
   ],
   "source": [
    "##LIST COMPREHENSION\n",
    "\n",
    "fruits=['banana','apple','mango','arange','pumpkin']\n",
    "newlist=[x for x in fruits if 'a'in x]\n",
    "print(newlist)\n"
   ]
  },
  {
   "cell_type": "code",
   "execution_count": 67,
   "id": "9ce8a520",
   "metadata": {},
   "outputs": [],
   "source": [
    "##ARRAY MODULE\n",
    "##IT IS A COLLECTION OF TYPE OF VALUES AND DURING CREATION WE HAVE TO GIVE THE TYPE OF A VALUE IT SHALL HOLD\n",
    "##CHARACTERISTICS ARE SAME AS LIST\n",
    "import array\n",
    "arr =array.array('i',[1,4,5,6])"
   ]
  },
  {
   "cell_type": "code",
   "execution_count": 68,
   "id": "cb8e9d67",
   "metadata": {},
   "outputs": [
    {
     "name": "stdout",
     "output_type": "stream",
     "text": [
      "array('i', [1, 4, 5, 6])\n"
     ]
    },
    {
     "data": {
      "text/plain": [
       "'i'"
      ]
     },
     "execution_count": 68,
     "metadata": {},
     "output_type": "execute_result"
    }
   ],
   "source": [
    "print(arr)\n",
    "arr.typecode"
   ]
  },
  {
   "cell_type": "code",
   "execution_count": 69,
   "id": "9abe55f1",
   "metadata": {},
   "outputs": [
    {
     "name": "stdout",
     "output_type": "stream",
     "text": [
      "(1, 5, 6)\n"
     ]
    }
   ],
   "source": [
    "##TUPLES\n",
    "##TUPLES ARE LIKE IMMUTABLE LIST\n",
    "tu=(1,5,6)\n",
    "print(tu)"
   ]
  },
  {
   "cell_type": "code",
   "execution_count": 70,
   "id": "900dfe8c",
   "metadata": {},
   "outputs": [
    {
     "name": "stdout",
     "output_type": "stream",
     "text": [
      "(1, 4, 'bharath')\n"
     ]
    }
   ],
   "source": [
    "tu1=1,4,'bharath'\n",
    "print(tu1)"
   ]
  },
  {
   "cell_type": "code",
   "execution_count": 71,
   "id": "32391777",
   "metadata": {},
   "outputs": [
    {
     "name": "stdout",
     "output_type": "stream",
     "text": [
      "(2, 5, 6, [5, 7, 8])\n",
      "(2, 5, 6, [5, 12, 8])\n"
     ]
    }
   ],
   "source": [
    "##one cannot delete a particular item in a tuple but able to delete entire tuple\n",
    "##one cannot reasign values in tuple but u can reassign values mutable item in tuple\n",
    "tu2=(2,5,6,[5,7,8])\n",
    "print(tu2)\n",
    "tu2[3][1]=12\n",
    "print(tu2)"
   ]
  },
  {
   "cell_type": "markdown",
   "id": "8c557613",
   "metadata": {},
   "source": [
    "# ZIP FUNCTION\n"
   ]
  },
  {
   "cell_type": "code",
   "execution_count": 72,
   "id": "1990f53a",
   "metadata": {},
   "outputs": [
    {
     "name": "stdout",
     "output_type": "stream",
     "text": [
      "(1, 'green')\n",
      "(2, 'yellow')\n",
      "(3, 'orange')\n"
     ]
    }
   ],
   "source": [
    "##BUILT IN FUNCION THAT RETURNS A ZIP OBJECT\n",
    "##IT PAIRS CORRESPONDING ELEMENT FROM EVERY ARGUMENT AND STOPS WHEN THE SHORTEST ARGUMENT GETS EXHAUSTED\n",
    "for item in zip([1,2,3],['green','yellow','orange']):\n",
    "    print(item)"
   ]
  },
  {
   "cell_type": "code",
   "execution_count": null,
   "id": "ae496f38",
   "metadata": {},
   "outputs": [],
   "source": []
  },
  {
   "cell_type": "code",
   "execution_count": 73,
   "id": "42b534cb",
   "metadata": {},
   "outputs": [
    {
     "data": {
      "text/plain": [
       "[5, 3]"
      ]
     },
     "execution_count": 73,
     "metadata": {},
     "output_type": "execute_result"
    }
   ],
   "source": [
    "##SLICING\n",
    "##slice(start,stop,step)\n",
    "sl=[1,5,8,3,98,45]\n",
    "sl[slice(1,5,2)]"
   ]
  },
  {
   "cell_type": "markdown",
   "id": "44649751",
   "metadata": {},
   "source": [
    "### BINARY SEQUENCE TYPES"
   ]
  },
  {
   "cell_type": "code",
   "execution_count": 74,
   "id": "20405576",
   "metadata": {},
   "outputs": [
    {
     "ename": "SyntaxError",
     "evalue": "unexpected EOF while parsing (1210002244.py, line 11)",
     "output_type": "error",
     "traceback": [
      "\u001b[1;36m  File \u001b[1;32m\"C:\\Users\\t\\AppData\\Local\\Temp\\ipykernel_8856\\1210002244.py\"\u001b[1;36m, line \u001b[1;32m11\u001b[0m\n\u001b[1;33m    ##SYNTAX- bytes([source[,encoding[,errors]]])\u001b[0m\n\u001b[1;37m                                                 ^\u001b[0m\n\u001b[1;31mSyntaxError\u001b[0m\u001b[1;31m:\u001b[0m unexpected EOF while parsing\n"
     ]
    }
   ],
   "source": [
    "#BYTES AND BYTEARRAY ARE BUILT IN TYPES THAT HELP MANIPULATE BINARY DATA\n",
    "\n",
    "#MEMORY VIEW USES BUFFER PROTOCAL TO ACCESS MEMORY OF OTHER BINARY OBJECTS WITHOUT NEED TO RELICATE THEM\n",
    "(#buffer protocal allows one object access another internal data without intermediate copying )\n",
    "###SYNTAX-memoryview(obj)\n",
    "\n",
    "##BYTE OBJECT ARE IMMUTABLE SEQUENCE OF SINGLE BYTES(RANGING FROM 0 TO 256)\n",
    "####SYNTAX- bytes([source[,encoding[,errors]]])\n",
    "\n",
    "##BYTEARRAY ARE IMMUTABLE(O TO 256)\n",
    "##SYNTAX- bytes([source[,encoding[,errors]]])"
   ]
  },
  {
   "cell_type": "markdown",
   "id": "e78c067e",
   "metadata": {},
   "source": [
    "# DICINARIES"
   ]
  },
  {
   "cell_type": "code",
   "execution_count": null,
   "id": "03545f3c",
   "metadata": {},
   "outputs": [],
   "source": [
    "##DICTIONARY IS A KEY VALUE PAIR\n",
    "##IT DOESNOT HOLD DUPLICATE KEYS\n",
    "##KEYS CANT BE MUTABLE BUT DICTIONARY IS MUTABLE"
   ]
  },
  {
   "cell_type": "code",
   "execution_count": null,
   "id": "2c1d7b17",
   "metadata": {},
   "outputs": [],
   "source": [
    "dic=dict()\n",
    "dic[1]='bharath'\n",
    "dic[2]='raj'\n",
    "dic[3]='vetrivel'\n",
    "print(dic)\n",
    "##GET USED TO GET THE VALUE OF KEY STORED IN A DICTIONARY\n",
    "print(dic.get(2))\n",
    "##ADD VALUES IN DICTIONARY\n",
    "dic[4]='puyal boopathi'\n",
    "print(dic)\n",
    "##EDIT VALUES IN DICTIONARY\n",
    "dic[4]='boopati'\n",
    "print(dic)\n",
    "##BUILT IN METHODS\n",
    "print(dic.keys())\n",
    "print(dic.values())\n",
    "print(dic.items())\n",
    "dic1=dic.copy()\n",
    "print(dic1)\n",
    "dic3={1:'gopal',2:'raj'}"
   ]
  },
  {
   "cell_type": "code",
   "execution_count": null,
   "id": "826e1577",
   "metadata": {},
   "outputs": [],
   "source": [
    "##CREATE A NEW DICTINARY FROM THE KEYS OF EXISTING ONE\n",
    "dic1.fromkeys({1,2,3,4},'bharath')\n",
    "\n",
    "##UPDATE A DICTIONARY WITH ALL THE VALUES FROM BOTH DICTIONARIES(COMMON VALUES IS ONCE TAKEN)\n",
    "dic1.update(dic3)\n",
    "print(dic1)\n"
   ]
  },
  {
   "cell_type": "markdown",
   "id": "256f36f3",
   "metadata": {},
   "source": [
    "# SET"
   ]
  },
  {
   "cell_type": "code",
   "execution_count": null,
   "id": "937b750c",
   "metadata": {},
   "outputs": [],
   "source": [
    "##COLLECTION OF UNIQUE VALUES AND DOESNOT SUPPORT INDEXING\n",
    "##SET IS MUTABLE BUT CANNOT HOLD MUTABLE ITEMS LIKE LIST AND DICTIONARIES OR EVEN OTHER SET\n",
    "set1={1,2,3}\n",
    "set2={3,4,5}\n",
    "set3={5,6,7}\n",
    "##UNION\n",
    "print(set1)\n",
    "print(set2)\n",
    "print(set3)"
   ]
  },
  {
   "cell_type": "code",
   "execution_count": null,
   "id": "b9b59c76",
   "metadata": {},
   "outputs": [],
   "source": [
    "##UNION(REURNS ALL ELEMENTS)\n",
    "set1.union(set2)"
   ]
  },
  {
   "cell_type": "code",
   "execution_count": null,
   "id": "53373368",
   "metadata": {},
   "outputs": [],
   "source": [
    "##INTERSECTION(RETURNS COMMON ELEMENTS)\n",
    "set1.intersection(set2)"
   ]
  },
  {
   "cell_type": "code",
   "execution_count": null,
   "id": "b61b812e",
   "metadata": {},
   "outputs": [],
   "source": [
    "##DIFFERENCE\n",
    "print(set1.difference(set2))\n",
    "print(set3.difference(set2,set1))"
   ]
  },
  {
   "cell_type": "code",
   "execution_count": null,
   "id": "7f22a646",
   "metadata": {},
   "outputs": [],
   "source": [
    "set1.difference(set3)"
   ]
  },
  {
   "cell_type": "code",
   "execution_count": null,
   "id": "35406fe8",
   "metadata": {},
   "outputs": [],
   "source": [
    "##SYMMETRIC DIFFERENCE(RETURNS ALL ELEMENT THAT ARE UNIQUE TO EACH SET)\n",
    "set1.symmetric_difference(set2)"
   ]
  },
  {
   "cell_type": "code",
   "execution_count": null,
   "id": "0df21496",
   "metadata": {},
   "outputs": [],
   "source": [
    "##COPY THE SET\n",
    "set4=set1.copy()\n",
    "print(set4)"
   ]
  },
  {
   "cell_type": "code",
   "execution_count": null,
   "id": "ca45c32f",
   "metadata": {},
   "outputs": [],
   "source": [
    "##REURNS TRUE IF TWO SETS HAVE NULL INTERSECTION\n",
    "{1,2,3}.isdisjoint({5,6,7})"
   ]
  },
  {
   "cell_type": "code",
   "execution_count": null,
   "id": "4ef77f1e",
   "metadata": {},
   "outputs": [],
   "source": [
    "##ISSUBSET\n",
    "set1.issubset(set2)"
   ]
  },
  {
   "cell_type": "code",
   "execution_count": null,
   "id": "733ec2ad",
   "metadata": {},
   "outputs": [],
   "source": [
    "##IS SUPERSET\n",
    "set5=set1,set2\n",
    "print(set5)"
   ]
  },
  {
   "cell_type": "code",
   "execution_count": null,
   "id": "a0a6c019",
   "metadata": {},
   "outputs": [],
   "source": [
    "{1,2,3,4}.issuperset({1,3})"
   ]
  },
  {
   "cell_type": "code",
   "execution_count": null,
   "id": "64a65d26",
   "metadata": {},
   "outputs": [],
   "source": [
    "##TO REMOVE ITEMS IN A SET\n",
    "set1.discard(2)\n",
    "print(set1)"
   ]
  },
  {
   "cell_type": "code",
   "execution_count": null,
   "id": "e8449f9b",
   "metadata": {},
   "outputs": [],
   "source": [
    "set2.discard(5)\n",
    "print(set2)"
   ]
  },
  {
   "cell_type": "code",
   "execution_count": null,
   "id": "59849ee7",
   "metadata": {},
   "outputs": [],
   "source": [
    "2**2**3"
   ]
  },
  {
   "cell_type": "markdown",
   "id": "8b0eb50e",
   "metadata": {},
   "source": [
    "# FUNCTIONS"
   ]
  },
  {
   "cell_type": "code",
   "execution_count": null,
   "id": "5b614885",
   "metadata": {},
   "outputs": [],
   "source": [
    "##CODE REUSABILITY\n",
    "##MAY RETURN A VALUE\n",
    "def func(a,b):\n",
    "    return(a+b)\n",
    "    print(\"no arguments given\")"
   ]
  },
  {
   "cell_type": "code",
   "execution_count": null,
   "id": "cadbb818",
   "metadata": {},
   "outputs": [],
   "source": [
    "func(2,8)"
   ]
  },
  {
   "cell_type": "code",
   "execution_count": null,
   "id": "1b6f2ad2",
   "metadata": {},
   "outputs": [],
   "source": [
    "##LAMBDA FUNCTIONS\n",
    "##FUNCTIONS WITHOUT A NAME\n",
    "##LAMBDA IS USED WHEN U WANT TO EXECUTE ONLY ONE STATEMENT OR WANT TO EXECUTE FUNCTION ONLY ONCE\n",
    "##OR WHEN U NEED TO PASS FNCTION TO OTHER FUNCTIONS\n",
    "a,b=56,98\n",
    "y =lambda:a+b\n",
    "print(y)\n"
   ]
  },
  {
   "cell_type": "code",
   "execution_count": null,
   "id": "6690a8ca",
   "metadata": {},
   "outputs": [],
   "source": [
    "y()"
   ]
  },
  {
   "cell_type": "code",
   "execution_count": null,
   "id": "ec4cf175",
   "metadata": {},
   "outputs": [],
   "source": [
    "##BUILT IN LAMBDA FUNCTIONS(FILTER,MAP AND REDUCE)\n",
    "\n",
    "##FILTER(TAKES TWO PARAMETER LIST AND A FUNCTION AND FILTER THE ELEMENTS THAT DONT SATISY CONDTIONS)\n",
    "numbers=[1,2,43,56,76,43,31,49]\n",
    "list(filter(lambda x:x%2==0,numbers))"
   ]
  },
  {
   "cell_type": "code",
   "execution_count": null,
   "id": "e9c73a14",
   "metadata": {},
   "outputs": [],
   "source": [
    "##MAP(TAKES TWO PARAMETER LIST AND A FUNCTION AND RETURN VALUE FOR EACH EXPRESSION)\n",
    "numbers=[1,2,43,56,76,43,31,49]\n",
    "list(map(lambda x:x%2==0,numbers))"
   ]
  },
  {
   "cell_type": "code",
   "execution_count": null,
   "id": "1903c4b7",
   "metadata": {},
   "outputs": [],
   "source": [
    "##REDUCE(TAKES TWO PARAMETER LIST AND A FUNCTION AND PERFORM COMPUTATION ON SEQUENTIAL PAIRS AND RESULTS ONE OUTPUT)\n",
    "from functools import reduce\n",
    "numbers=[0,1,2,3,4,56,7,8,9]\n",
    "reduce(lambda x,y:x+y,numbers)\n"
   ]
  },
  {
   "cell_type": "code",
   "execution_count": null,
   "id": "898e74f9",
   "metadata": {},
   "outputs": [],
   "source": [
    "def double_triple(mylist):\n",
    "    return list(map(lambda x:x*2 if x%2==0 else x*3,mylist))\n"
   ]
  },
  {
   "cell_type": "code",
   "execution_count": null,
   "id": "06769b1a",
   "metadata": {},
   "outputs": [],
   "source": [
    "double_triple([1,2,3,4,5,6])"
   ]
  },
  {
   "cell_type": "code",
   "execution_count": null,
   "id": "a5af1da5",
   "metadata": {},
   "outputs": [],
   "source": [
    "##USED WHEN N NO OF INPUTS NEED TO GIVEN(*args uses tuple)\n",
    "def add(*args):\n",
    "    return sum(args)\n"
   ]
  },
  {
   "cell_type": "code",
   "execution_count": null,
   "id": "2d714c55",
   "metadata": {},
   "outputs": [],
   "source": [
    "add(2,3,8,34,78)"
   ]
  },
  {
   "cell_type": "code",
   "execution_count": null,
   "id": "c5d2bba5",
   "metadata": {},
   "outputs": [],
   "source": [
    "##**kwargs uses dictionary\n",
    "def dic(**kwargs):\n",
    "    for i,j in kwargs.items():\n",
    "        print(f\"{i}:{j}\")"
   ]
  },
  {
   "cell_type": "code",
   "execution_count": null,
   "id": "9236cff1",
   "metadata": {},
   "outputs": [],
   "source": [
    "dic(milk=16,cheese=17)"
   ]
  },
  {
   "cell_type": "code",
   "execution_count": null,
   "id": "9c4e2f7e",
   "metadata": {},
   "outputs": [],
   "source": [
    "##RECURSIVE FUNCTION\n",
    "##FUNCTION CALL ITSELF \n",
    "##IT IS USED WHEN SAME FUNCTION TO BE EXECUTED WITH DIFFERNT VALUES IN A SEQUENCE\n",
    "def factorial(num):\n",
    "        if num==1:return 1\n",
    "        return num*factorial(num-1)"
   ]
  },
  {
   "cell_type": "code",
   "execution_count": null,
   "id": "1decca3a",
   "metadata": {},
   "outputs": [],
   "source": [
    "factorial(7)"
   ]
  },
  {
   "cell_type": "code",
   "execution_count": null,
   "id": "9ecfffa9",
   "metadata": {},
   "outputs": [],
   "source": [
    "##RANGE FUNCTION(n-1)\n",
    "range(12)\n",
    "print(list(range(12)))"
   ]
  },
  {
   "cell_type": "code",
   "execution_count": null,
   "id": "5a5b7abc",
   "metadata": {},
   "outputs": [],
   "source": [
    "##DECORATOR\n",
    "##A FUNCTION THAT ADD FUNCTIONALITY TO ANOTHER BUT DOESNOT MODIFYIT\n",
    "##A PART OF PROGRAM MODIFIES OTHER AT COMPILER TIME\n",
    "\n",
    "def one(a):\n",
    "    def two():\n",
    "        print(a)\n",
    "    return two()\n",
    "    \n"
   ]
  },
  {
   "cell_type": "code",
   "execution_count": null,
   "id": "0c5550f5",
   "metadata": {},
   "outputs": [],
   "source": [
    "one(56)"
   ]
  },
  {
   "cell_type": "markdown",
   "id": "aae31973",
   "metadata": {},
   "source": [
    "# MODULES"
   ]
  },
  {
   "cell_type": "code",
   "execution_count": null,
   "id": "c842abf7",
   "metadata": {},
   "outputs": [],
   "source": [
    "##A FILE HOLDING STATEMENTS AND DEFINITIONS GOOD FOR STORING SIMILAR CODES IN ONE PLACE AND CAN BE REUSED\n",
    "##dir() - RETURNS A SORTED LIST OF ALL THE NAMES A MODULES DEFINE"
   ]
  },
  {
   "cell_type": "code",
   "execution_count": null,
   "id": "44b98966",
   "metadata": {},
   "outputs": [],
   "source": [
    "##COUNTER MODULE\n",
    "\n",
    "#KEEPS COUNT NO OF TIMES A VALUE APPEARS IN A CONTAINER WHICH STORES ELEMENTS AS DICTIONARY KEYS AND COUNT AS VALUES\n",
    "from collections import Counter\n",
    "count=Counter(['a','b','c','d','a','a','c'])\n",
    "print(count)"
   ]
  },
  {
   "cell_type": "code",
   "execution_count": null,
   "id": "71f1be32",
   "metadata": {},
   "outputs": [],
   "source": [
    "##DEFAULTDIC(RETURNS A DEFAULT VALUE WHEN NO KEY VALUE PAIRS FOUND)\n",
    "from collections import defaultdict\n",
    "def default():\n",
    "    return 42\n",
    "mydic=defaultdict(default)\n",
    "mydic[1]='bharath'\n",
    "mydic[2]='raj'"
   ]
  },
  {
   "cell_type": "code",
   "execution_count": null,
   "id": "d49103f0",
   "metadata": {},
   "outputs": [],
   "source": [
    "print(mydic[1])\n",
    "print(mydic[4])"
   ]
  },
  {
   "cell_type": "code",
   "execution_count": null,
   "id": "c34a3d59",
   "metadata": {},
   "outputs": [],
   "source": [
    "#ORDEREDDICT(A DATA TYPE IN WHICH KEYS ARE MUTABLE)\n",
    "from collections import OrderedDict\n",
    "print(mydic)\n",
    "mydic=OrderedDict()"
   ]
  },
  {
   "cell_type": "code",
   "execution_count": null,
   "id": "76b6fb02",
   "metadata": {},
   "outputs": [],
   "source": [
    "mydic[2]='vetrivel'"
   ]
  },
  {
   "cell_type": "code",
   "execution_count": null,
   "id": "48da4bf8",
   "metadata": {},
   "outputs": [],
   "source": [
    "print(mydic)"
   ]
  },
  {
   "cell_type": "code",
   "execution_count": null,
   "id": "f742c5be",
   "metadata": {},
   "outputs": [],
   "source": [
    "import math\n",
    "print(math.factorial(5))\n",
    "print(math.ceil(3.4))\n",
    "print(math.pi)\n",
    "print(math.exp(3))\n",
    "print(math.sin(90))"
   ]
  },
  {
   "cell_type": "markdown",
   "id": "8595e6b5",
   "metadata": {},
   "source": [
    "# PYTHON SYS MODULE"
   ]
  },
  {
   "cell_type": "code",
   "execution_count": null,
   "id": "42a66e34",
   "metadata": {},
   "outputs": [],
   "source": [
    "##TO ACCESS SYSTEM SPECIFIC PARAMETER AND FUNCTION\n",
    "import sys"
   ]
  },
  {
   "cell_type": "markdown",
   "id": "bbadf184",
   "metadata": {},
   "source": [
    "# PACKAGES"
   ]
  },
  {
   "cell_type": "code",
   "execution_count": null,
   "id": "c2dea505",
   "metadata": {},
   "outputs": [],
   "source": [
    "##AS PROGRAM GETS LARGER AND LARGER WE DIVIDE THEM INTO PACKAGES\n",
    "##IN PACKAGES WE CAN ABLE TO PUT SIMILAR MODULES,ASLO ABLE TO PUT PACKAGE IN A PACKAGE\n",
    "##PREVENT COLLISION BETWEEN MODULES WITH THE SAME NAME\n",
    "\n",
    "#__init__.py -structure of a package\n",
    "#.py -structure of a module"
   ]
  },
  {
   "cell_type": "code",
   "execution_count": null,
   "id": "f4e641dc",
   "metadata": {},
   "outputs": [],
   "source": [
    "pip list"
   ]
  },
  {
   "cell_type": "code",
   "execution_count": null,
   "id": "2d3e0fc5",
   "metadata": {},
   "outputs": [],
   "source": [
    "##MODULE VS PACAKAGE\n",
    "#Module is a file that holds python code while package is a directory that holds subackages and module\n",
    "##Package need __init__.py while module deosnt\n",
    "##In module * import everything while in package * import only immediate modules"
   ]
  },
  {
   "cell_type": "markdown",
   "id": "88138e11",
   "metadata": {},
   "source": [
    "# REGULAR EXPRESSION"
   ]
  },
  {
   "cell_type": "code",
   "execution_count": null,
   "id": "057c4f99",
   "metadata": {},
   "outputs": [],
   "source": [
    "##A REGULAR EXPRESSION IS A SEQUENCE OF CHARACTER THAT DEFINES A SEARCH PATTERN(USED TO FIND AND REPLACE)\n",
    "##A REGEX HAS A REGULAR CHARACTER AND METACHARACTER\n",
    "##A REGULAR CHARACTER MATCHES ITSELF WHILE META CHARACTER HAS A SPECIAL MEANING TO ITSELF"
   ]
  },
  {
   "cell_type": "code",
   "execution_count": null,
   "id": "c4cf7aaf",
   "metadata": {},
   "outputs": [],
   "source": [
    "##match\n",
    "#TAKES A PATTERN AND STRING AND RETRUNS TRUE IF THEY MATCHES OR ELSE NONE\n",
    "import re\n",
    "print(re.match('bharath','bharath'))\n",
    "print(re.match('bharath','bharat'))"
   ]
  },
  {
   "cell_type": "code",
   "execution_count": null,
   "id": "bf6b03bd",
   "metadata": {},
   "outputs": [],
   "source": [
    "##search\n",
    "#SEARCH CHECK IT FOR ANYWHERE\n",
    "print(re.search('ara','bharath'))\n",
    "print(re.search('art','bharath'))"
   ]
  },
  {
   "cell_type": "code",
   "execution_count": null,
   "id": "e48bcdf9",
   "metadata": {},
   "outputs": [],
   "source": [
    "##find all is used to find all the available similar patterns\n",
    "##sub() function replaces part of string with the another\n",
    "print(re.sub('an{0,1}[\\s]','the','a apple,an apple'))\n"
   ]
  },
  {
   "cell_type": "markdown",
   "id": "dc955044",
   "metadata": {},
   "source": [
    "# DATE AND TIME"
   ]
  },
  {
   "cell_type": "code",
   "execution_count": null,
   "id": "a4fbfc0a",
   "metadata": {},
   "outputs": [],
   "source": [
    "import time\n",
    "import calendar\n",
    "print(time.localtime())\n",
    "print(time.asctime())\n",
    "print(time.ctime())\n",
    "print(time.time())\n",
    "print(time.gmtime())\n",
    "print(time.tzname)\n",
    "print(calendar.month(2023,3))"
   ]
  },
  {
   "cell_type": "markdown",
   "id": "117df407",
   "metadata": {},
   "source": [
    "# NAMESPACE"
   ]
  },
  {
   "cell_type": "code",
   "execution_count": null,
   "id": "57668d24",
   "metadata": {},
   "outputs": [],
   "source": [
    "##A COLLECTION OF NAMES,MAPPING OF NAMES TO CORRESPONDING OBJECTS IMPLEMENTED AS A DICTIONARY\n",
    "#FUNCTIONS - LOCAL NAMESPACE\n",
    "#MODULES- GLOBAL NAMESPCAE\n",
    "#BUILT IN NAMESAPCE\n",
    "##VARIABLE SCOPE IS A PART OF CODE WHERE ITS VISIBLE"
   ]
  },
  {
   "cell_type": "code",
   "execution_count": null,
   "id": "6bcb8a0d",
   "metadata": {},
   "outputs": [],
   "source": [
    "a=1\n",
    "def one():\n",
    "    b=3\n",
    "    print(b)\n",
    "    print(a)"
   ]
  },
  {
   "cell_type": "code",
   "execution_count": null,
   "id": "32a0cf1f",
   "metadata": {},
   "outputs": [],
   "source": [
    "one()"
   ]
  },
  {
   "cell_type": "code",
   "execution_count": null,
   "id": "3be41393",
   "metadata": {},
   "outputs": [],
   "source": [
    "a=1\n",
    "def one():\n",
    "    b=3\n",
    "    a=3\n",
    "    print(a)\n",
    "    print(b)\n"
   ]
  },
  {
   "cell_type": "code",
   "execution_count": null,
   "id": "da9bd7e9",
   "metadata": {},
   "outputs": [],
   "source": [
    "one()"
   ]
  },
  {
   "cell_type": "code",
   "execution_count": null,
   "id": "93a2ee59",
   "metadata": {},
   "outputs": [],
   "source": [
    "a=1\n",
    "def red():\n",
    "    b=3\n",
    "    def blue():\n",
    "        \n",
    "        a=3\n",
    "        b=4\n",
    "        c=4\n",
    "        print(a)\n",
    "        print(b)\n",
    "        print(c)\n",
    "    blue()    \n",
    "    print(a)\n",
    "        \n",
    "        \n",
    "        \n"
   ]
  },
  {
   "cell_type": "code",
   "execution_count": null,
   "id": "ed83a26d",
   "metadata": {},
   "outputs": [],
   "source": [
    "red()"
   ]
  },
  {
   "cell_type": "code",
   "execution_count": null,
   "id": "d6fc83fa",
   "metadata": {},
   "outputs": [],
   "source": [
    "a=1\n",
    "def red():\n",
    "    b=3\n",
    "    def blue():\n",
    "        global a\n",
    "        nonlocal b\n",
    "        a=3\n",
    "        b=4\n",
    "        c=4\n",
    "        print(a)\n",
    "        print(b)\n",
    "        print(c)\n",
    "    blue()    \n",
    "    print(a)\n",
    "    print(b)"
   ]
  },
  {
   "cell_type": "code",
   "execution_count": null,
   "id": "a34ab177",
   "metadata": {},
   "outputs": [],
   "source": [
    "red()"
   ]
  },
  {
   "cell_type": "code",
   "execution_count": null,
   "id": "17f6d849",
   "metadata": {},
   "outputs": [],
   "source": [
    "##VIRTUAL ENVIRONMENT IS A SELF CONTAINED DIRECTORY TREE WITH A PYTHON INSTALLATION FOR SPECIFIC VERSION\n",
    "#IT HAS NUMEROUS ADDITIONAL PACKAGES\n",
    "##BY THIS WAY DIFFERENT APPLICATION CAN RUN DIFFERENT LIBRARIES AND IT RESOLVES PERMISSION ISSUE AND PREVENT GLOBALIZATION\n",
    "##THE PURPOSE OF VE IS TO PROVIDE ISOLATED WORKING ENVIRONMENT\n",
    "##activate.bat is used to activate the environment"
   ]
  },
  {
   "cell_type": "code",
   "execution_count": null,
   "id": "95730036",
   "metadata": {},
   "outputs": [],
   "source": [
    "##DATETIME MODULE(MODULE WITH CLASSES FOR MANIPULATE DATE AND TIME)\n",
    "##NAIVE OBJECT - ARE EASIER TO DEAL WITH THEY DONT HAVE ENOUGH INFORMATION TO LOCATE THEMSELVES WITH OTHER OBJECT\n",
    "##AWARE OBJECT - MORE REALIBLE THEY KNOW APPLICABLE ALGORITHM AND POLITICAL TIME ADJUSTMENT\n",
    "\n",
    "##DATETIME CLASS TYPES(date -naive dates)(time-idealized time)(date and time-date and time)\n",
    "#(timedelta -difference btwn two dates/time)(tzinfo -timezone information)(timezone-offset from utc)\n",
    "\n",
    "print(date.today() date\n",
    "print(date.today())\n",
    "print(date.today().month)\n",
    "print(date.today().weekday())\n",
    "\n",
    "\n",
    "\n",
    "\n",
    "\n",
    "\n",
    "\n",
    "\n",
    "\n",
    "\n"
   ]
  },
  {
   "cell_type": "code",
   "execution_count": null,
   "id": "61a5d186",
   "metadata": {},
   "outputs": [],
   "source": [
    "##11/3/2023\n",
    "from datetime import timedelta\n",
    "from datetime import time\n",
    "print(date.today()-timedelta(8))\n",
    "print(time.max)\n",
    "print(time.min)"
   ]
  },
  {
   "cell_type": "code",
   "execution_count": null,
   "id": "d4d0e4fa",
   "metadata": {},
   "outputs": [],
   "source": [
    "##AGE CALCULATOR\n",
    "from datetime import date\n",
    "def age_calculator(birthdate):\n",
    "    today=date.today()\n",
    "    year,month,day=birthdate.split('/')\n",
    "    birthdate=date(int(year),int(month),int(day))\n",
    "    return str(today.year -birthdate.year-((today.month,today.day)<(birthdate.month,birthdate.day)))+'Years'"
   ]
  },
  {
   "cell_type": "code",
   "execution_count": null,
   "id": "d770e664",
   "metadata": {},
   "outputs": [],
   "source": [
    "age_calculator('1995/5/31')"
   ]
  },
  {
   "cell_type": "code",
   "execution_count": null,
   "id": "c2c32726",
   "metadata": {},
   "outputs": [],
   "source": [
    "from datetime import datetime\n",
    "datetime.month"
   ]
  },
  {
   "cell_type": "code",
   "execution_count": null,
   "id": "94e5affd",
   "metadata": {},
   "outputs": [],
   "source": [
    "##DEEP COPY AND SHALLOW COPY\n",
    "\n",
    "##SHALLOW COPY(ANY CHANGES IN THE COPIED OBJECT MAKE CHANGES IN THE ORIGINAL OBJECT AS WELL)\n",
    "\n",
    "from copy import copy\n",
    "list1=[1,[3,4]]\n",
    "list2=copy(list1)\n",
    "print(list2)\n",
    "\n",
    "list2[1][1]=8\n",
    "print(list1)\n",
    "print(list2)"
   ]
  },
  {
   "cell_type": "code",
   "execution_count": null,
   "id": "1fa6b03b",
   "metadata": {},
   "outputs": [],
   "source": [
    "##DEEPCOPY (ANY CAHNGES IN THE COPIED OBJECT DOESNT AFFECT ORIGINAL OBJECT)\n",
    "from copy import deepcopy\n",
    "\n",
    "list2=deepcopy(list1)\n",
    "list2[1][1]=6\n",
    "print(list1)\n",
    "print(list2)\n"
   ]
  },
  {
   "cell_type": "code",
   "execution_count": null,
   "id": "300c6cd9",
   "metadata": {},
   "outputs": [],
   "source": [
    "##ASSERTION\n",
    "##STATEMENT WHICH TEST THE TRUENESS OF A CONDTION IN A PIECE OF CODE\n",
    "##BOOLEN EXPRESSION THAT CONFIRMS THE BOOLEAN OUTPUT OF A CONDTION\n",
    "##A NICE DEBUGGING TOOL TO DEAL WITH UNRECVARABLE ERROR AND USED TO CATCH ANY FALSE ASSUMPTION THAT WE MADE\n",
    "##ALWAYS WANTS TOO SEE TRUE IF FALSE IT THROWS AN ERROR IN SUCH CASE WE CAN ABLE TO DISPLAY THE ERROR WE HAVE MADE \n",
    "print(2==3)\n"
   ]
  },
  {
   "cell_type": "code",
   "execution_count": null,
   "id": "35aa3857",
   "metadata": {},
   "outputs": [],
   "source": [
    "def div(a,b):\n",
    "    assert b!=0, 'you cannot divide a number by zero'\n",
    "    return (a/b)"
   ]
  },
  {
   "cell_type": "code",
   "execution_count": null,
   "id": "4e35c032",
   "metadata": {},
   "outputs": [],
   "source": [
    "div(3,2)"
   ]
  },
  {
   "cell_type": "code",
   "execution_count": null,
   "id": "c715806c",
   "metadata": {},
   "outputs": [],
   "source": [
    "div(3,0)"
   ]
  },
  {
   "cell_type": "code",
   "execution_count": null,
   "id": "cf38f261",
   "metadata": {},
   "outputs": [],
   "source": [
    "from pprint import pprint\n",
    "a=[(1,(3,4,6)),{1:'bharath',2:'raj'},[2,4,5],'vetrivel',(2,4)]\n",
    "print(a)\n",
    "pprint(a)"
   ]
  },
  {
   "cell_type": "markdown",
   "id": "31287e69",
   "metadata": {},
   "source": [
    "# METHOD CLASS OBJECT"
   ]
  },
  {
   "cell_type": "code",
   "execution_count": null,
   "id": "2c1c65be",
   "metadata": {},
   "outputs": [],
   "source": [
    "##A METHOD IS A PIECE OF CODE TO EXECUTE ON AN OBJECT\n",
    "##A CLASS IS AN ABSTRACT DATA TYPE,A BLUEPRINT\n",
    "##A OBJECT IS A INSTANCE OF CLASS AND HAVE ITS OWN PROPERTIES AND BEHAVIOUR"
   ]
  },
  {
   "cell_type": "code",
   "execution_count": null,
   "id": "bd7a3827",
   "metadata": {},
   "outputs": [],
   "source": [
    "##METHOD IS LIKE A FUNCTION BUT iN A CLASS AND MUST BE CALLED TO AN OBJECT WHICH CAN BE ALTERED..\n",
    "##MAY TAKE ARGUMENTS AND HAVE A RETURN FUNCTION"
   ]
  },
  {
   "cell_type": "code",
   "execution_count": null,
   "id": "3ed86c70",
   "metadata": {},
   "outputs": [],
   "source": [
    "class ANIMAL:\n",
    "    def __init__(self,species,gender):\n",
    "        self.species=species\n",
    "        self.gender=gender\n",
    "        \n",
    "    def sound(self):\n",
    "            print('urr')\n",
    "        \n",
    "fluffy =ANIMAL('rare','male')\n",
    "fluffy.species\n",
    "##self -it tells the interpretor to deal with current object\n",
    "\n",
    "        "
   ]
  },
  {
   "cell_type": "code",
   "execution_count": null,
   "id": "90da3e4b",
   "metadata": {},
   "outputs": [],
   "source": [
    "fluffy.sound()"
   ]
  },
  {
   "cell_type": "code",
   "execution_count": null,
   "id": "8ff7553d",
   "metadata": {},
   "outputs": [],
   "source": [
    "##INHERITANCE\n",
    "\n",
    "#SINGLE INHERITANCE:(A CALSS DERIVED FROM ONE BASE CLASS)\n",
    "class person:\n",
    "    pass\n",
    "class student(person):\n",
    "    pass\n",
    "\n",
    "#MULTIPLE INHERITANCE(A CLASS DERIBED FROM MORE THAN ONE BASE CLASS)\n",
    "class person:\n",
    "    pass\n",
    "class person1:\n",
    "    pass\n",
    "class per(person,person1):\n",
    "    pass\n",
    "\n",
    "#MULTILEVEL INHERITANCE(A CLASS DERIVED FROM ONE CLASS AND OTHER CLASS IS DERIVED FROM THAT DERIVED CLASS)\n",
    "class person:\n",
    "    pass\n",
    "class person1(person):\n",
    "    pass\n",
    "class person2(person1):\n",
    "    pass\n",
    "\n",
    "#HIERARCHICAL INHERITANCE(MULTIPLE CLASS DERIVED FROM SINGLE BASS CLASS)\n",
    "class person:\n",
    "    pass\n",
    "class person1(person):\n",
    "    pass\n",
    "class person2(person):\n",
    "    pass\n",
    "\n",
    "#HYBRID INHERITANCE(COMBINATION OF DIFFERENT TYPES OF INHERITANCE)\n",
    "\n",
    "\n",
    "#SUPER() FUNCTION -TO REFER TO THE PARENT CLASS TO CALL A METHOD\n",
    "\n",
    "##METHOD OVERRIDING - A SUBCLASS MAY REDIFINE THE FUNCTIONALITY OF A METHOD IN A SUPER CLASS\n",
    "##METHOD OVERLOADING - PYTHON DOESNOT SUPPORT"
   ]
  },
  {
   "cell_type": "code",
   "execution_count": null,
   "id": "003bb8e6",
   "metadata": {},
   "outputs": [],
   "source": [
    "##GENERATOR\n",
    "#IT LENDS US A SEQUENCE OF VALUES TO ITERATE ON(yield keyword is used)\n",
    "\n",
    "def one(num):\n",
    "    while(num!=0):\n",
    "        if num%2==0:\n",
    "            yield num\n",
    "        num=num-1   "
   ]
  },
  {
   "cell_type": "code",
   "execution_count": null,
   "id": "d7b63165",
   "metadata": {},
   "outputs": [],
   "source": [
    "for item in one(16):\n",
    "    print(item)"
   ]
  },
  {
   "cell_type": "code",
   "execution_count": null,
   "id": "1dc699c4",
   "metadata": {},
   "outputs": [],
   "source": [
    "##ITERATOR(TRAVERSE OVER AN ITERABLE,ONE AT A TIME)\n",
    "itr_obj =iter([1,3,5,6])\n",
    "print(next(itr_obj))\n",
    "print(next(itr_obj))\n",
    "print(next(itr_obj))"
   ]
  },
  {
   "cell_type": "markdown",
   "id": "a778e5c6",
   "metadata": {},
   "source": [
    "# READ AND WRITE A FILE"
   ]
  },
  {
   "cell_type": "code",
   "execution_count": null,
   "id": "3246f91b",
   "metadata": {},
   "outputs": [],
   "source": [
    "##OPEN A FILE IN READ MODE\n",
    "todo =open('bharath.txt','r+')"
   ]
  },
  {
   "cell_type": "code",
   "execution_count": null,
   "id": "97415807",
   "metadata": {},
   "outputs": [],
   "source": [
    "##READ THE FIRST FIVE LETTERS IN A FILE\n",
    "todo.read(5)\n"
   ]
  },
  {
   "cell_type": "code",
   "execution_count": null,
   "id": "4793ac04",
   "metadata": {},
   "outputs": [],
   "source": [
    "##READ THE FIRST line\n",
    "todo.readline()\n"
   ]
  },
  {
   "cell_type": "code",
   "execution_count": null,
   "id": "b843114f",
   "metadata": {},
   "outputs": [],
   "source": [
    "##READ AN ENTIRE FILE\n",
    "todo.read()"
   ]
  },
  {
   "cell_type": "code",
   "execution_count": null,
   "id": "d5fbdf91",
   "metadata": {},
   "outputs": [],
   "source": [
    "##ANOTHER METHOD TO OPEN A FILE\n",
    "with open('bharath.txt')as todo:\n",
    "     todo.read()"
   ]
  },
  {
   "cell_type": "code",
   "execution_count": null,
   "id": "30f8ed6c",
   "metadata": {},
   "outputs": [],
   "source": [
    "##TO MOVE THE REQUIRED LETTER IN A FILE AND READ FROM THAT LETTER\n",
    "todo.seek(0) #to move back to first text\n",
    "todo.seek(2)"
   ]
  },
  {
   "cell_type": "code",
   "execution_count": null,
   "id": "0897888a",
   "metadata": {},
   "outputs": [],
   "source": [
    "todo.read()\n"
   ]
  },
  {
   "cell_type": "code",
   "execution_count": null,
   "id": "0e97b824",
   "metadata": {},
   "outputs": [],
   "source": [
    "todo.seek(0)\n",
    "for line in todo:\n",
    "    print(line,end=\"\")"
   ]
  },
  {
   "cell_type": "code",
   "execution_count": null,
   "id": "234edb4c",
   "metadata": {},
   "outputs": [],
   "source": [
    "##TO CLOSE THE FILE\n",
    "todo.close()"
   ]
  },
  {
   "cell_type": "code",
   "execution_count": null,
   "id": "ff68437e",
   "metadata": {},
   "outputs": [],
   "source": [
    "##TO ADD WORDS TO THE FILE\n",
    "todo=open('bharath.txt','a')\n",
    "todo.write('iam a algo maker')\n"
   ]
  },
  {
   "cell_type": "code",
   "execution_count": 78,
   "id": "ffaf69ce",
   "metadata": {},
   "outputs": [],
   "source": [
    "todo =open('bharath.txt','r')"
   ]
  },
  {
   "cell_type": "code",
   "execution_count": 79,
   "id": "db8c345d",
   "metadata": {},
   "outputs": [
    {
     "data": {
      "text/plain": [
       "'iam bharath \\niam a professional trader\\niam a passionate cricketeriam a algo makeriam a algo makeriam a algo maker'"
      ]
     },
     "execution_count": 79,
     "metadata": {},
     "output_type": "execute_result"
    }
   ],
   "source": [
    "todo.read()"
   ]
  },
  {
   "cell_type": "code",
   "execution_count": 81,
   "id": "74ecb53a",
   "metadata": {},
   "outputs": [
    {
     "name": "stdout",
     "output_type": "stream",
     "text": [
      "C:\\Users\\t\n"
     ]
    },
    {
     "data": {
      "text/plain": [
       "['.conda',\n",
       " '.condarc',\n",
       " '.continuum',\n",
       " '.ipynb_checkpoints',\n",
       " '.ipython',\n",
       " '.jupyter',\n",
       " '.matplotlib',\n",
       " '3D Objects',\n",
       " 'anaconda3',\n",
       " 'AppData',\n",
       " 'Application Data',\n",
       " 'bharath.txt',\n",
       " 'calculator.py.txt',\n",
       " 'Contacts',\n",
       " 'Cookies',\n",
       " 'covid_19_india.csv',\n",
       " 'DATA_FLAIR_PYTHON.ipynb',\n",
       " 'Data_structures_udemy.ipynb',\n",
       " 'Decision_Tree.ipynb',\n",
       " 'Desktop',\n",
       " 'diabetes.csv',\n",
       " 'Documents',\n",
       " 'Downloads',\n",
       " 'Favorites',\n",
       " 'IntelGraphicsProfiles',\n",
       " 'Iris.csv',\n",
       " 'LINEAR_REGRESSION.ipynb',\n",
       " 'Links',\n",
       " 'Local Settings',\n",
       " 'LOOPS.ipynb',\n",
       " 'modified_df.csv',\n",
       " 'modified_df.json',\n",
       " 'modified_df.tsv',\n",
       " 'modified_df.xlsx',\n",
       " 'Music',\n",
       " 'My Documents',\n",
       " 'Naive_bayers.ipynb',\n",
       " 'NetHood',\n",
       " 'NTUSER.DAT',\n",
       " 'ntuser.dat.LOG1',\n",
       " 'ntuser.dat.LOG2',\n",
       " 'NTUSER.DAT{5da67a58-4bc4-11ed-bb9f-002315f65747}.TM.blf',\n",
       " 'NTUSER.DAT{5da67a58-4bc4-11ed-bb9f-002315f65747}.TMContainer00000000000000000001.regtrans-ms',\n",
       " 'NTUSER.DAT{5da67a58-4bc4-11ed-bb9f-002315f65747}.TMContainer00000000000000000002.regtrans-ms',\n",
       " 'ntuser.ini',\n",
       " 'NUMPY_PYTHON.ipynb',\n",
       " 'OneDrive',\n",
       " 'pandas_aggregate.ipynb',\n",
       " 'pandas_append.ipynb',\n",
       " 'Pandas_csv.ipynb',\n",
       " 'pandas_demo1.ipynb',\n",
       " 'PANDAS_PYTHON_2023.ipynb',\n",
       " 'Pictures',\n",
       " 'pie_plot_pandas.ipynb',\n",
       " 'plot.png',\n",
       " 'PrintHood',\n",
       " 'PYTHON_ALL_NOTES.ipynb',\n",
       " 'Python_learn_2022.ipynb',\n",
       " 'Python_matplotlib.ipynb',\n",
       " 'Random_forest.ipynb',\n",
       " 'Recent',\n",
       " 'Saved Games',\n",
       " 'seaborn-data',\n",
       " 'Searches',\n",
       " 'Sea_born_plot.ipynb',\n",
       " 'SendTo',\n",
       " 'Social_Network_Ads.csv',\n",
       " 'Start Menu',\n",
       " 'STATISTICS.ipynb',\n",
       " 'Strings_python.ipynb',\n",
       " 'SUPPORT VECTOR.ipynb',\n",
       " 'survey_results_public.csv',\n",
       " 'survey_results_schema.csv',\n",
       " 'Templates',\n",
       " 'Untitled Folder',\n",
       " 'Untitled Folder 1',\n",
       " 'Untitled.ipynb',\n",
       " 'Untitled1.ipynb',\n",
       " 'Untitled10.ipynb',\n",
       " 'Untitled2.ipynb',\n",
       " 'Untitled3.ipynb',\n",
       " 'Untitled4.ipynb',\n",
       " 'Untitled5.ipynb',\n",
       " 'Untitled6.ipynb',\n",
       " 'Untitled7.ipynb',\n",
       " 'Untitled8.ipynb',\n",
       " 'Untitled9.ipynb',\n",
       " 'Videos',\n",
       " 'WebComponents']"
      ]
     },
     "execution_count": 81,
     "metadata": {},
     "output_type": "execute_result"
    }
   ],
   "source": [
    "##GETTNG THE DIRECTORY\n",
    "\n",
    "import os\n",
    "print(os.getcwd())\n",
    "\n",
    "##USED TO DISPLAY THE FILES IN THE DIRECTORY\n",
    "os.listdir()\n",
    "\n",
    "##USED TO CHANGE DIRECTORY\n",
    "os.chdir()"
   ]
  },
  {
   "cell_type": "code",
   "execution_count": 91,
   "id": "415d927e",
   "metadata": {},
   "outputs": [
    {
     "ename": "FileExistsError",
     "evalue": "[WinError 183] Cannot create a file when that file already exists: 'bharath_raj'",
     "output_type": "error",
     "traceback": [
      "\u001b[1;31m---------------------------------------------------------------------------\u001b[0m",
      "\u001b[1;31mFileExistsError\u001b[0m                           Traceback (most recent call last)",
      "\u001b[1;32m~\\AppData\\Local\\Temp\\ipykernel_8856\\3996390148.py\u001b[0m in \u001b[0;36m<module>\u001b[1;34m\u001b[0m\n\u001b[0;32m      1\u001b[0m \u001b[1;31m##USED TO CREATE A DIRECTORY\u001b[0m\u001b[1;33m\u001b[0m\u001b[1;33m\u001b[0m\u001b[0m\n\u001b[1;32m----> 2\u001b[1;33m \u001b[0mos\u001b[0m\u001b[1;33m.\u001b[0m\u001b[0mmkdir\u001b[0m\u001b[1;33m(\u001b[0m\u001b[1;34m'bharath_raj'\u001b[0m\u001b[1;33m)\u001b[0m\u001b[1;33m\u001b[0m\u001b[1;33m\u001b[0m\u001b[0m\n\u001b[0m",
      "\u001b[1;31mFileExistsError\u001b[0m: [WinError 183] Cannot create a file when that file already exists: 'bharath_raj'"
     ]
    }
   ],
   "source": [
    "##USED TO CREATE A DIRECTORY\n",
    "os.mkdir('bharath_raj')\n"
   ]
  },
  {
   "cell_type": "code",
   "execution_count": 90,
   "id": "3e8d830b",
   "metadata": {},
   "outputs": [
    {
     "data": {
      "text/plain": [
       "['.conda',\n",
       " '.condarc',\n",
       " '.continuum',\n",
       " '.ipynb_checkpoints',\n",
       " '.ipython',\n",
       " '.jupyter',\n",
       " '.matplotlib',\n",
       " '3D Objects',\n",
       " 'anaconda3',\n",
       " 'AppData',\n",
       " 'Application Data',\n",
       " 'bharath.txt',\n",
       " 'bharath_raj',\n",
       " 'calculator.py.txt',\n",
       " 'Contacts',\n",
       " 'Cookies',\n",
       " 'covid_19_india.csv',\n",
       " 'DATA_FLAIR_PYTHON.ipynb',\n",
       " 'Data_structures_udemy.ipynb',\n",
       " 'Decision_Tree.ipynb',\n",
       " 'Desktop',\n",
       " 'diabetes.csv',\n",
       " 'Documents',\n",
       " 'Downloads',\n",
       " 'Favorites',\n",
       " 'IntelGraphicsProfiles',\n",
       " 'Iris.csv',\n",
       " 'LINEAR_REGRESSION.ipynb',\n",
       " 'Links',\n",
       " 'Local Settings',\n",
       " 'LOOPS.ipynb',\n",
       " 'modified_df.csv',\n",
       " 'modified_df.json',\n",
       " 'modified_df.tsv',\n",
       " 'modified_df.xlsx',\n",
       " 'Music',\n",
       " 'My Documents',\n",
       " 'Naive_bayers.ipynb',\n",
       " 'NetHood',\n",
       " 'NTUSER.DAT',\n",
       " 'ntuser.dat.LOG1',\n",
       " 'ntuser.dat.LOG2',\n",
       " 'NTUSER.DAT{5da67a58-4bc4-11ed-bb9f-002315f65747}.TM.blf',\n",
       " 'NTUSER.DAT{5da67a58-4bc4-11ed-bb9f-002315f65747}.TMContainer00000000000000000001.regtrans-ms',\n",
       " 'NTUSER.DAT{5da67a58-4bc4-11ed-bb9f-002315f65747}.TMContainer00000000000000000002.regtrans-ms',\n",
       " 'ntuser.ini',\n",
       " 'NUMPY_PYTHON.ipynb',\n",
       " 'OneDrive',\n",
       " 'pandas_aggregate.ipynb',\n",
       " 'pandas_append.ipynb',\n",
       " 'Pandas_csv.ipynb',\n",
       " 'pandas_demo1.ipynb',\n",
       " 'PANDAS_PYTHON_2023.ipynb',\n",
       " 'Pictures',\n",
       " 'pie_plot_pandas.ipynb',\n",
       " 'plot.png',\n",
       " 'PrintHood',\n",
       " 'PYTHON_ALL_NOTES.ipynb',\n",
       " 'Python_learn_2022.ipynb',\n",
       " 'Python_matplotlib.ipynb',\n",
       " 'Random_forest.ipynb',\n",
       " 'Recent',\n",
       " 'Saved Games',\n",
       " 'seaborn-data',\n",
       " 'Searches',\n",
       " 'Sea_born_plot.ipynb',\n",
       " 'SendTo',\n",
       " 'Social_Network_Ads.csv',\n",
       " 'Start Menu',\n",
       " 'STATISTICS.ipynb',\n",
       " 'Strings_python.ipynb',\n",
       " 'SUPPORT VECTOR.ipynb',\n",
       " 'survey_results_public.csv',\n",
       " 'survey_results_schema.csv',\n",
       " 'Templates',\n",
       " 'Untitled Folder',\n",
       " 'Untitled Folder 1',\n",
       " 'Untitled.ipynb',\n",
       " 'Untitled1.ipynb',\n",
       " 'Untitled10.ipynb',\n",
       " 'Untitled2.ipynb',\n",
       " 'Untitled3.ipynb',\n",
       " 'Untitled4.ipynb',\n",
       " 'Untitled5.ipynb',\n",
       " 'Untitled6.ipynb',\n",
       " 'Untitled7.ipynb',\n",
       " 'Untitled8.ipynb',\n",
       " 'Untitled9.ipynb',\n",
       " 'Videos',\n",
       " 'WebComponents']"
      ]
     },
     "execution_count": 90,
     "metadata": {},
     "output_type": "execute_result"
    }
   ],
   "source": [
    "os.listdir()"
   ]
  },
  {
   "cell_type": "code",
   "execution_count": 92,
   "id": "ebc404b0",
   "metadata": {},
   "outputs": [],
   "source": [
    "os.rename('bharath_raj','esawr')"
   ]
  },
  {
   "cell_type": "code",
   "execution_count": 93,
   "id": "09037188",
   "metadata": {},
   "outputs": [
    {
     "data": {
      "text/plain": [
       "['.conda',\n",
       " '.condarc',\n",
       " '.continuum',\n",
       " '.ipynb_checkpoints',\n",
       " '.ipython',\n",
       " '.jupyter',\n",
       " '.matplotlib',\n",
       " '3D Objects',\n",
       " 'anaconda3',\n",
       " 'AppData',\n",
       " 'Application Data',\n",
       " 'bharath.txt',\n",
       " 'calculator.py.txt',\n",
       " 'Contacts',\n",
       " 'Cookies',\n",
       " 'covid_19_india.csv',\n",
       " 'DATA_FLAIR_PYTHON.ipynb',\n",
       " 'Data_structures_udemy.ipynb',\n",
       " 'Decision_Tree.ipynb',\n",
       " 'Desktop',\n",
       " 'diabetes.csv',\n",
       " 'Documents',\n",
       " 'Downloads',\n",
       " 'esawr',\n",
       " 'Favorites',\n",
       " 'IntelGraphicsProfiles',\n",
       " 'Iris.csv',\n",
       " 'LINEAR_REGRESSION.ipynb',\n",
       " 'Links',\n",
       " 'Local Settings',\n",
       " 'LOOPS.ipynb',\n",
       " 'modified_df.csv',\n",
       " 'modified_df.json',\n",
       " 'modified_df.tsv',\n",
       " 'modified_df.xlsx',\n",
       " 'Music',\n",
       " 'My Documents',\n",
       " 'Naive_bayers.ipynb',\n",
       " 'NetHood',\n",
       " 'NTUSER.DAT',\n",
       " 'ntuser.dat.LOG1',\n",
       " 'ntuser.dat.LOG2',\n",
       " 'NTUSER.DAT{5da67a58-4bc4-11ed-bb9f-002315f65747}.TM.blf',\n",
       " 'NTUSER.DAT{5da67a58-4bc4-11ed-bb9f-002315f65747}.TMContainer00000000000000000001.regtrans-ms',\n",
       " 'NTUSER.DAT{5da67a58-4bc4-11ed-bb9f-002315f65747}.TMContainer00000000000000000002.regtrans-ms',\n",
       " 'ntuser.ini',\n",
       " 'NUMPY_PYTHON.ipynb',\n",
       " 'OneDrive',\n",
       " 'pandas_aggregate.ipynb',\n",
       " 'pandas_append.ipynb',\n",
       " 'Pandas_csv.ipynb',\n",
       " 'pandas_demo1.ipynb',\n",
       " 'PANDAS_PYTHON_2023.ipynb',\n",
       " 'Pictures',\n",
       " 'pie_plot_pandas.ipynb',\n",
       " 'plot.png',\n",
       " 'PrintHood',\n",
       " 'PYTHON_ALL_NOTES.ipynb',\n",
       " 'Python_learn_2022.ipynb',\n",
       " 'Python_matplotlib.ipynb',\n",
       " 'Random_forest.ipynb',\n",
       " 'Recent',\n",
       " 'Saved Games',\n",
       " 'seaborn-data',\n",
       " 'Searches',\n",
       " 'Sea_born_plot.ipynb',\n",
       " 'SendTo',\n",
       " 'Social_Network_Ads.csv',\n",
       " 'Start Menu',\n",
       " 'STATISTICS.ipynb',\n",
       " 'Strings_python.ipynb',\n",
       " 'SUPPORT VECTOR.ipynb',\n",
       " 'survey_results_public.csv',\n",
       " 'survey_results_schema.csv',\n",
       " 'Templates',\n",
       " 'Untitled Folder',\n",
       " 'Untitled Folder 1',\n",
       " 'Untitled.ipynb',\n",
       " 'Untitled1.ipynb',\n",
       " 'Untitled10.ipynb',\n",
       " 'Untitled2.ipynb',\n",
       " 'Untitled3.ipynb',\n",
       " 'Untitled4.ipynb',\n",
       " 'Untitled5.ipynb',\n",
       " 'Untitled6.ipynb',\n",
       " 'Untitled7.ipynb',\n",
       " 'Untitled8.ipynb',\n",
       " 'Untitled9.ipynb',\n",
       " 'Videos',\n",
       " 'WebComponents']"
      ]
     },
     "execution_count": 93,
     "metadata": {},
     "output_type": "execute_result"
    }
   ],
   "source": [
    "os.listdir()"
   ]
  },
  {
   "cell_type": "code",
   "execution_count": 94,
   "id": "2bb97524",
   "metadata": {},
   "outputs": [
    {
     "ename": "FileNotFoundError",
     "evalue": "[WinError 2] The system cannot find the file specified: 'eswar'",
     "output_type": "error",
     "traceback": [
      "\u001b[1;31m---------------------------------------------------------------------------\u001b[0m",
      "\u001b[1;31mFileNotFoundError\u001b[0m                         Traceback (most recent call last)",
      "\u001b[1;32m~\\AppData\\Local\\Temp\\ipykernel_8856\\640333447.py\u001b[0m in \u001b[0;36m<module>\u001b[1;34m\u001b[0m\n\u001b[1;32m----> 1\u001b[1;33m \u001b[0mos\u001b[0m\u001b[1;33m.\u001b[0m\u001b[0mrmdir\u001b[0m\u001b[1;33m(\u001b[0m\u001b[1;34m'eswar'\u001b[0m\u001b[1;33m)\u001b[0m\u001b[1;33m\u001b[0m\u001b[1;33m\u001b[0m\u001b[0m\n\u001b[0m",
      "\u001b[1;31mFileNotFoundError\u001b[0m: [WinError 2] The system cannot find the file specified: 'eswar'"
     ]
    }
   ],
   "source": [
    "os.rmdir('eswar')"
   ]
  },
  {
   "cell_type": "code",
   "execution_count": null,
   "id": "cdfecbe2",
   "metadata": {},
   "outputs": [],
   "source": [
    "##SHUTIL MODULE\n",
    "##HIGH LEVEL OPERATIONS ON FILES AND COLLECTION OF FILES AND IT HA FUNCTION LIKE COP,REMOVE ETC...\n",
    "\n",
    "##ZIPFILE(TOOLS FOR CREATING,WRITING,APPENDING AND LISTING OUT ZIP FILES)\n",
    "##ZipFile(read and write zip files)\n",
    "##PyZipFile(creating zip archives holding python library)\n",
    "##ZipInfo(represents information about member of an archive)\n",
    "\n",
    "\n",
    "##UNIT TESTING(TESTING INDIVIDUAL UNITS OF CODE)"
   ]
  },
  {
   "cell_type": "markdown",
   "id": "c1b657bf",
   "metadata": {},
   "source": [
    "# PYTHON LIBRARIES"
   ]
  },
  {
   "cell_type": "code",
   "execution_count": null,
   "id": "073eb5e5",
   "metadata": {},
   "outputs": [],
   "source": [
    "##XML(EXTENSIBLE MARKUP LANGUAGE)\n",
    "#ENCODES DOCUMENTS BY DEFINING A SET OF RULE IN A FORMAT BOTH HUMAN AND MACHINE READABLE\n",
    "\n",
    "##XML PARSEL APIS(SAX(SIMPLE API FOR XML-EVEN DRIVEN ONLINE ALGORITHM) \n",
    "                #DOM(DOCUMENT OBJECT MODEL API-FASTER FOR LARGER FILES))\n",
    "    \n",
    "    \n",
    "##SMTP(SIMPLE MAIL TRANSFER PROTOCAL)\n",
    "##APPLICATION LAYER PUSH PROTOCAL FOR SENDING AND RECEIVING MAILS\n",
    "##import smtplib for sending mails"
   ]
  }
 ],
 "metadata": {
  "kernelspec": {
   "display_name": "Python 3 (ipykernel)",
   "language": "python",
   "name": "python3"
  },
  "language_info": {
   "codemirror_mode": {
    "name": "ipython",
    "version": 3
   },
   "file_extension": ".py",
   "mimetype": "text/x-python",
   "name": "python",
   "nbconvert_exporter": "python",
   "pygments_lexer": "ipython3",
   "version": "3.9.13"
  }
 },
 "nbformat": 4,
 "nbformat_minor": 5
}
